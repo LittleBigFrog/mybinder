{
 "cells": [
  {
   "cell_type": "code",
   "execution_count": null,
   "metadata": {},
   "outputs": [],
   "source": [
    "import requests\n",
    "import lxml\n",
    "import pandas as pd\n",
    "import IPython\n",
    "from tqdm import tqdm\n",
    "from bs4 import BeautifulSoup as Soup\n",
    "from datetime import datetime , timedelta"
   ]
  },
  {
   "cell_type": "code",
   "execution_count": null,
   "metadata": {},
   "outputs": [],
   "source": [
    "l=[]\n",
    "\n",
    "for i in tqdm(range(10)):\n",
    "    i+=1\n",
    "    url='https://www.theguardian.com/type/gallery/'+(datetime.today()-timedelta(i)).strftime('%Y/%b/%d')+'/all' \n",
    "    r=requests.get(url)\n",
    "    html = Soup(r.text, 'lxml') \n",
    "    l.extend(list(set([i['href'] for i in html.find_all('a') if i.get('href') is not None and '/gallery/' in i['href'] and not i['href'].endswith(('/all', '/altdate'))])))\n",
    "    i+=1\n",
    "    del r\n",
    "    "
   ]
  },
  {
   "cell_type": "code",
   "execution_count": null,
   "metadata": {},
   "outputs": [],
   "source": [
    "l2=[]\n",
    "for p in tqdm(l):\n",
    "    r=requests.get(p)\n",
    "    category=p.split('https://www.theguardian.com/')[1].split('/')[0]\n",
    "    html = Soup(r.text, 'lxml')\n",
    "    z=html.find_all(\"picture\")\n",
    "    l2.extend([[i.findChildren()[1]['srcset'].split(' ')[0],p,category] for i in z if i.parent['class'][0]=='u-responsive-ratio' ])"
   ]
  },
  {
   "cell_type": "code",
   "execution_count": null,
   "metadata": {},
   "outputs": [],
   "source": [
    "df=pd.DataFrame(l2)\n",
    "df.columns = ['image_url', 'page_url', 'category']"
   ]
  },
  {
   "cell_type": "code",
   "execution_count": null,
   "metadata": {},
   "outputs": [],
   "source": [
    "r=df.sample(1)\n",
    "print (r.image_url.item())\n",
    "print (r.category.item())\n",
    "print (r.page_url.item())\n",
    "iframe = '<iframe src=' + r.image_url.item() + ' width=1400 height=700></iframe>'\n",
    "IPython.display.HTML(iframe)"
   ]
  },
  {
   "cell_type": "code",
   "execution_count": null,
   "metadata": {},
   "outputs": [],
   "source": [
    "import shutil\n",
    "r=df.sample(1)\n",
    "url=r.image_url.item()\n",
    "response=requests.get(url, stream=True)\n",
    "with open('img.jpg', 'wb') as out_file:\n",
    "    shutil.copyfileobj(response.raw, out_file)\n",
    "del response"
   ]
  }
 ],
 "metadata": {
  "kernelspec": {
   "display_name": "Python 3",
   "language": "python",
   "name": "python3"
  },
  "language_info": {
   "codemirror_mode": {
    "name": "ipython",
    "version": 3
   },
   "file_extension": ".py",
   "mimetype": "text/x-python",
   "name": "python",
   "nbconvert_exporter": "python",
   "pygments_lexer": "ipython3",
   "version": "3.6.3"
  }
 },
 "nbformat": 4,
 "nbformat_minor": 2
}
