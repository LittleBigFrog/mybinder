{
 "cells": [
  {
   "cell_type": "code",
   "execution_count": 2,
   "metadata": {},
   "outputs": [],
   "source": [
    "import requests\n",
    "from bs4 import BeautifulSoup as Soup\n",
    "from datetime import datetime , timedelta"
   ]
  },
  {
   "cell_type": "code",
   "execution_count": 3,
   "metadata": {},
   "outputs": [],
   "source": [
    "l=[]\n",
    "for i in range (0,366):\n",
    "    print(i)\n",
    "    url='https://www.theguardian.com/type/gallery/'+(datetime.today()-timedelta(i)).strftime('%Y/%b/%d')+'/all' \n",
    "    r=requests.get(url)\n",
    "    html = Soup(r.text, 'html.parser') \n",
    "    l.extend(list(set([i['href'] for i in html.find_all('a') if i.get('href') is not None and '/gallery/' in i['href'] and not i['href'].endswith(('/all', '/altdate'))])))"
   ]
  },
  {
   "cell_type": "code",
   "execution_count": 10,
   "metadata": {},
   "outputs": [],
   "source": [
    "l2=[]\n",
    "for i in l:\n",
    "    r=requests.get(i)\n",
    "    html = Soup(r.text, 'html.parser')\n",
    "    z=html.find_all(\"picture\")\n",
    "    l2.extend([i.findChildren()[1]['srcset'].split(' ')[0] for i in z if i.parent['class'][0]=='u-responsive-ratio' ])"
   ]
  },
  {
   "cell_type": "code",
   "execution_count": 9,
   "metadata": {},
   "outputs": [],
   "source": [
    "import IPython\n",
    "import random\n",
    "iframe = '<iframe src=' + random.choice(l2) + ' width=1400 height=700></iframe>'\n",
    "IPython.display.HTML(iframe)\n"
   ]
  },
  {
   "cell_type": "code",
   "execution_count": 11,
   "metadata": {},
   "outputs": [],
   "source": [
    "response=requests.get(url, stream=True)\n",
    "with open('img.png', 'wb') as out_file:\n",
    "    shutil.copyfileobj(response.raw, out_file)\n",
    "del response"
   ]
  }
 ],
 "metadata": {
  "kernelspec": {
   "display_name": "Python 3",
   "language": "python",
   "name": "python3"
  },
  "language_info": {
   "codemirror_mode": {
    "name": "ipython",
    "version": 3
   },
   "file_extension": ".py",
   "mimetype": "text/x-python",
   "name": "python",
   "nbconvert_exporter": "python",
   "pygments_lexer": "ipython3",
   "version": "3.6.3"
  }
 },
 "nbformat": 4,
 "nbformat_minor": 2
}
